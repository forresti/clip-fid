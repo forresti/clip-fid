{
 "cells": [
  {
   "cell_type": "code",
   "execution_count": 1,
   "id": "8b2e5d6d",
   "metadata": {},
   "outputs": [],
   "source": [
    "import json\n",
    "from slugify import slugify\n",
    "\n",
    "with open('../coco/annotations/captions_val2014.json', 'r') as f:\n",
    "    captions = json.load(f)"
   ]
  },
  {
   "cell_type": "code",
   "execution_count": 5,
   "id": "2d89b0c0",
   "metadata": {},
   "outputs": [
    {
     "data": {
      "text/plain": [
       "[{'image_id': 203564,\n",
       "  'id': 37,\n",
       "  'caption': 'A bicycle replica with a clock as the front wheel.'},\n",
       " {'image_id': 179765,\n",
       "  'id': 38,\n",
       "  'caption': 'A black Honda motorcycle parked in front of a garage.'},\n",
       " {'image_id': 322141,\n",
       "  'id': 49,\n",
       "  'caption': 'A room with blue walls and a white sink and door.'},\n",
       " {'image_id': 16977,\n",
       "  'id': 89,\n",
       "  'caption': 'A car that seems to be parked illegally behind a legally parked car'},\n",
       " {'image_id': 106140,\n",
       "  'id': 98,\n",
       "  'caption': 'A large passenger airplane flying through the air.'},\n",
       " {'image_id': 106140,\n",
       "  'id': 101,\n",
       "  'caption': 'There is a GOL plane taking off in a partly cloudy sky.'},\n",
       " {'image_id': 322141,\n",
       "  'id': 109,\n",
       "  'caption': 'Blue and white color scheme in a small bathroom.'},\n",
       " {'image_id': 322141,\n",
       "  'id': 121,\n",
       "  'caption': 'This is a blue and white bathroom with a wall sink and a lifesaver on the wall.'},\n",
       " {'image_id': 322141,\n",
       "  'id': 163,\n",
       "  'caption': 'A blue boat themed bathroom with a life preserver on the wall'},\n",
       " {'image_id': 203564, 'id': 181, 'caption': 'The bike has a clock as a tire.'}]"
      ]
     },
     "execution_count": 5,
     "metadata": {},
     "output_type": "execute_result"
    }
   ],
   "source": [
    "captions['annotations'][0:10]"
   ]
  },
  {
   "cell_type": "code",
   "execution_count": 8,
   "id": "d184700d",
   "metadata": {},
   "outputs": [
    {
     "data": {
      "text/plain": [
       "'2023-01-25_12.21.46.209287'"
      ]
     },
     "execution_count": 8,
     "metadata": {},
     "output_type": "execute_result"
    }
   ],
   "source": [
    "\n",
    "from datetime import datetime as dt\n",
    "\n",
    "\n",
    "def get_dt():\n",
    "   datetime_format = '%Y-%m-%d_%H.%M.%S.%f'\n",
    "   return dt.now().strftime(datetime_format)\n",
    "\n",
    "get_dt()"
   ]
  },
  {
   "cell_type": "code",
   "execution_count": 7,
   "id": "fa1ad1a7",
   "metadata": {},
   "outputs": [
    {
     "data": {
      "text/plain": [
       "'this-is-a-test-'"
      ]
     },
     "execution_count": 7,
     "metadata": {},
     "output_type": "execute_result"
    }
   ],
   "source": [
    "\n",
    "txt = \"This is a test ---\"\n",
    "r = slugify(txt)\n",
    "r"
   ]
  }
 ],
 "metadata": {
  "kernelspec": {
   "display_name": "Python 3",
   "language": "python",
   "name": "python3"
  },
  "language_info": {
   "codemirror_mode": {
    "name": "ipython",
    "version": 3
   },
   "file_extension": ".py",
   "mimetype": "text/x-python",
   "name": "python",
   "nbconvert_exporter": "python",
   "pygments_lexer": "ipython3",
   "version": "3.9.13"
  }
 },
 "nbformat": 4,
 "nbformat_minor": 5
}
