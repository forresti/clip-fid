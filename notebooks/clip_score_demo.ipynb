{
 "cells": [
  {
   "cell_type": "code",
   "execution_count": 1,
   "id": "a8232f88",
   "metadata": {},
   "outputs": [],
   "source": [
    "import json\n",
    "import os\n",
    "\n",
    "generated_dir = '../results/2023-01-25_13.35.59.974447'\n",
    "coco_dir = '../coco'\n",
    "\n",
    "with open(os.path.join(generated_dir, 'generated.json')) as f:\n",
    "    generated_pointers = json.load(f) "
   ]
  },
  {
   "cell_type": "code",
   "execution_count": 2,
   "id": "38a45434",
   "metadata": {},
   "outputs": [
    {
     "data": {
      "text/plain": [
       "[{'image_id': 203564,\n",
       "  'caption': 'A bicycle replica with a clock as the front wheel.',\n",
       "  'generated_image': '203564_a-bicycle-replica-with-a-clock-as-the-front-wheel.jpg'},\n",
       " {'image_id': 179765,\n",
       "  'caption': 'A black Honda motorcycle parked in front of a garage.',\n",
       "  'generated_image': '179765_a-black-honda-motorcycle-parked-in-front-of-a-garage.jpg'},\n",
       " {'image_id': 322141,\n",
       "  'caption': 'A room with blue walls and a white sink and door.',\n",
       "  'generated_image': '322141_a-room-with-blue-walls-and-a-white-sink-and-door.jpg'},\n",
       " {'image_id': 16977,\n",
       "  'caption': 'A car that seems to be parked illegally behind a legally parked car',\n",
       "  'generated_image': '16977_a-car-that-seems-to-be-parked-illegally-behind-a-legally-parked-car.jpg'},\n",
       " {'image_id': 106140,\n",
       "  'caption': 'A large passenger airplane flying through the air.',\n",
       "  'generated_image': '106140_a-large-passenger-airplane-flying-through-the-air.jpg'},\n",
       " {'image_id': 106140,\n",
       "  'caption': 'There is a GOL plane taking off in a partly cloudy sky.',\n",
       "  'generated_image': '106140_there-is-a-gol-plane-taking-off-in-a-partly-cloudy-sky.jpg'},\n",
       " {'image_id': 322141,\n",
       "  'caption': 'Blue and white color scheme in a small bathroom.',\n",
       "  'generated_image': '322141_blue-and-white-color-scheme-in-a-small-bathroom.jpg'},\n",
       " {'image_id': 322141,\n",
       "  'caption': 'This is a blue and white bathroom with a wall sink and a lifesaver on the wall.',\n",
       "  'generated_image': '322141_this-is-a-blue-and-white-bathroom-with-a-wall-sink-and-a-lifesaver-on-the-wall.jpg'},\n",
       " {'image_id': 322141,\n",
       "  'caption': 'A blue boat themed bathroom with a life preserver on the wall',\n",
       "  'generated_image': '322141_a-blue-boat-themed-bathroom-with-a-life-preserver-on-the-wall.jpg'},\n",
       " {'image_id': 203564,\n",
       "  'caption': 'The bike has a clock as a tire.',\n",
       "  'generated_image': '203564_the-bike-has-a-clock-as-a-tire.jpg'}]"
      ]
     },
     "execution_count": 2,
     "metadata": {},
     "output_type": "execute_result"
    }
   ],
   "source": [
    "generated_pointers"
   ]
  },
  {
   "cell_type": "code",
   "execution_count": 3,
   "id": "2574268a",
   "metadata": {},
   "outputs": [
    {
     "data": {
      "text/plain": [
       "'../coco/val2014/COCO_val2014_000000203564.jpg'"
      ]
     },
     "execution_count": 3,
     "metadata": {},
     "output_type": "execute_result"
    }
   ],
   "source": [
    "\"\"\"\n",
    "CLIP-score doesn't actually need the real image; I am just testing that we are able to locate it.\n",
    "We will need this for FID-score.\n",
    "\"\"\"\n",
    "\n",
    "def get_real_image_path(coco_dir, image_id):\n",
    "    image_id_str = str(image_id).zfill(12) # pad to 12 characters\n",
    "    image_base_fname = f\"COCO_val2014_{image_id_str}.jpg\"\n",
    "    image_path = os.path.join(coco_dir, 'val2014', image_base_fname)\n",
    "    return image_path\n",
    "\n",
    "real_image_path = get_real_image_path(coco_dir, generated_pointers[0]['image_id'])\n",
    "\n",
    "real_image_path"
   ]
  },
  {
   "cell_type": "code",
   "execution_count": 4,
   "id": "f2dfa4b9",
   "metadata": {},
   "outputs": [
    {
     "name": "stderr",
     "output_type": "stream",
     "text": [
      "/home/forrest/anaconda3/envs/nov2022_diffusers/lib/python3.9/site-packages/tqdm/auto.py:22: TqdmWarning: IProgress not found. Please update jupyter and ipywidgets. See https://ipywidgets.readthedocs.io/en/stable/user_install.html\n",
      "  from .autonotebook import tqdm as notebook_tqdm\n"
     ]
    },
    {
     "name": "stdout",
     "output_type": "stream",
     "text": [
      "score_noise: 24.244796752929688\n",
      "score 0: 32.35782241821289\n",
      "score 1: 29.201053619384766\n",
      "score 2: 36.21590805053711\n",
      "score 3: 26.181865692138672\n",
      "score 4: 28.211578369140625\n",
      "score 5: 26.74888038635254\n",
      "score 6: 35.66602325439453\n",
      "score 7: 32.951229095458984\n",
      "score 8: 37.02812194824219\n",
      "score 9: 28.038082122802734\n"
     ]
    }
   ],
   "source": [
    "# CLIP score demo\n",
    "\n",
    "import torch\n",
    "from torchvision.io import read_image\n",
    "import torchvision.transforms as T\n",
    "from torchmetrics.multimodal import CLIPScore\n",
    "\n",
    "\n",
    "\n",
    "\n",
    "metric = CLIPScore(model_name_or_path=\"openai/clip-vit-base-patch16\") # TODO: which CLIP model do others use?\n",
    "\n",
    "score_noise = metric(torch.randint(255, (3, 224, 224)), \"a photo of a cat\")\n",
    "print(f\"score_noise: {score_noise}\")\n",
    "\n",
    "for i in range(len(generated_pointers)):\n",
    "    generated_image_path = os.path.join(generated_dir, generated_pointers[i]['generated_image'])\n",
    "    generated_image = read_image(generated_image_path)\n",
    "\n",
    "    # img = T.ToPILImage()(generated_image)\n",
    "    # img.show()\n",
    "\n",
    "    score_actual = metric(generated_image, generated_pointers[i]['caption'])\n",
    "    print(f\"score {i}: {score_actual}\")\n"
   ]
  },
  {
   "cell_type": "code",
   "execution_count": 5,
   "id": "042b6cfe",
   "metadata": {
    "scrolled": true
   },
   "outputs": [
    {
     "name": "stdout",
     "output_type": "stream",
     "text": [
      "../coco/val2014/COCO_val2014_000000203564.jpg\n",
      "../coco/val2014/COCO_val2014_000000179765.jpg\n",
      "../coco/val2014/COCO_val2014_000000322141.jpg\n",
      "../coco/val2014/COCO_val2014_000000016977.jpg\n",
      "../coco/val2014/COCO_val2014_000000106140.jpg\n",
      "../coco/val2014/COCO_val2014_000000106140.jpg\n",
      "../coco/val2014/COCO_val2014_000000322141.jpg\n",
      "../coco/val2014/COCO_val2014_000000322141.jpg\n",
      "../coco/val2014/COCO_val2014_000000322141.jpg\n",
      "../coco/val2014/COCO_val2014_000000203564.jpg\n"
     ]
    }
   ],
   "source": [
    "# prep for FID score demo\n",
    "\n",
    "generated_images = []\n",
    "real_images = []\n",
    "\n",
    "for i in range(len(generated_pointers)):\n",
    "    image_path = get_real_image_path(coco_dir, generated_pointers[i]['image_id'])\n",
    "    print(image_path)\n",
    "    real_images.append(read_image(image_path))\n",
    "\n",
    "for i in range(len(generated_pointers)):\n",
    "    image_path = os.path.join(generated_dir, generated_pointers[i]['generated_image'])\n",
    "    generated_images.append(read_image(image_path))\n",
    "\n",
    "\n",
    "    "
   ]
  },
  {
   "cell_type": "code",
   "execution_count": 10,
   "id": "b4f5e42b",
   "metadata": {},
   "outputs": [
    {
     "data": {
      "text/plain": [
       "torch.Size([1, 3, 400, 400])"
      ]
     },
     "execution_count": 10,
     "metadata": {},
     "output_type": "execute_result"
    }
   ],
   "source": [
    "img = real_images[0]\n",
    "img.shape\n",
    "img2 = img.unsqueeze(0)\n",
    "img2.shape"
   ]
  },
  {
   "cell_type": "code",
   "execution_count": 11,
   "id": "4f63a8aa",
   "metadata": {},
   "outputs": [
    {
     "name": "stdout",
     "output_type": "stream",
     "text": [
      "fid score: 181.83921813964844\n"
     ]
    }
   ],
   "source": [
    "# FID score demo\n",
    "\n",
    "from torchmetrics.image.fid import FrechetInceptionDistance\n",
    "\n",
    "fid = FrechetInceptionDistance(feature=2048)\n",
    "\n",
    "\"\"\"\n",
    "We are running the following with batch size 1. It would likely be faster to use a larger batch size.\n",
    "But, the real images have various resolutions and aspect ratios.\n",
    "It's convenient to let torchmetrics take care of resizing the images.\n",
    "\"\"\"\n",
    "\n",
    "for generated, real in zip(generated_images, real_images):\n",
    "    fid.update(generated.unsqueeze(0), real=False)\n",
    "    fid.update(real.unsqueeze(0), real=True)\n",
    "\n",
    "fid_score = fid.compute()\n",
    "print(f\"fid score: {fid_score}\")"
   ]
  }
 ],
 "metadata": {
  "kernelspec": {
   "display_name": "Python 3",
   "language": "python",
   "name": "python3"
  },
  "language_info": {
   "codemirror_mode": {
    "name": "ipython",
    "version": 3
   },
   "file_extension": ".py",
   "mimetype": "text/x-python",
   "name": "python",
   "nbconvert_exporter": "python",
   "pygments_lexer": "ipython3",
   "version": "3.9.13"
  }
 },
 "nbformat": 4,
 "nbformat_minor": 5
}
