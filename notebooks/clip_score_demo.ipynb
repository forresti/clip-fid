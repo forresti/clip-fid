{
 "cells": [
  {
   "cell_type": "code",
   "execution_count": 1,
   "id": "8f3780ba",
   "metadata": {
    "scrolled": true
   },
   "outputs": [],
   "source": [
    "import json\n",
    "import os\n",
    "\n",
    "generated_dir = '../results/2023-01-25_14.40.38.728069'\n",
    "coco_dir = '../coco'\n",
    "\n",
    "with open(os.path.join(generated_dir, 'generated.json')) as f:\n",
    "    generated_pointers = json.load(f) "
   ]
  },
  {
   "cell_type": "code",
   "execution_count": 2,
   "id": "0eebb445",
   "metadata": {
    "scrolled": true
   },
   "outputs": [
    {
     "data": {
      "text/plain": [
       "[{'image_id': 203564,\n",
       "  'caption': 'A bicycle replica with a clock as the front wheel.',\n",
       "  'generated_image': '203564_a-bicycle-replica-with-a-clock-as-the-front-wheel.jpg'},\n",
       " {'image_id': 179765,\n",
       "  'caption': 'A black Honda motorcycle parked in front of a garage.',\n",
       "  'generated_image': '179765_a-black-honda-motorcycle-parked-in-front-of-a-garage.jpg'},\n",
       " {'image_id': 322141,\n",
       "  'caption': 'A room with blue walls and a white sink and door.',\n",
       "  'generated_image': '322141_a-room-with-blue-walls-and-a-white-sink-and-door.jpg'},\n",
       " {'image_id': 16977,\n",
       "  'caption': 'A car that seems to be parked illegally behind a legally parked car',\n",
       "  'generated_image': '16977_a-car-that-seems-to-be-parked-illegally-behind-a-legally-parked-car.jpg'},\n",
       " {'image_id': 106140,\n",
       "  'caption': 'A large passenger airplane flying through the air.',\n",
       "  'generated_image': '106140_a-large-passenger-airplane-flying-through-the-air.jpg'},\n",
       " {'image_id': 106140,\n",
       "  'caption': 'There is a GOL plane taking off in a partly cloudy sky.',\n",
       "  'generated_image': '106140_there-is-a-gol-plane-taking-off-in-a-partly-cloudy-sky.jpg'},\n",
       " {'image_id': 322141,\n",
       "  'caption': 'Blue and white color scheme in a small bathroom.',\n",
       "  'generated_image': '322141_blue-and-white-color-scheme-in-a-small-bathroom.jpg'},\n",
       " {'image_id': 322141,\n",
       "  'caption': 'This is a blue and white bathroom with a wall sink and a lifesaver on the wall.',\n",
       "  'generated_image': '322141_this-is-a-blue-and-white-bathroom-with-a-wall-sink-and-a-lifesaver-on-the-wall.jpg'},\n",
       " {'image_id': 322141,\n",
       "  'caption': 'A blue boat themed bathroom with a life preserver on the wall',\n",
       "  'generated_image': '322141_a-blue-boat-themed-bathroom-with-a-life-preserver-on-the-wall.jpg'},\n",
       " {'image_id': 203564,\n",
       "  'caption': 'The bike has a clock as a tire.',\n",
       "  'generated_image': '203564_the-bike-has-a-clock-as-a-tire.jpg'},\n",
       " {'image_id': 179765,\n",
       "  'caption': 'A Honda motorcycle parked in a grass driveway',\n",
       "  'generated_image': '179765_a-honda-motorcycle-parked-in-a-grass-driveway.jpg'},\n",
       " {'image_id': 16977,\n",
       "  'caption': 'two cars parked on the sidewalk on the street',\n",
       "  'generated_image': '16977_two-cars-parked-on-the-sidewalk-on-the-street.jpg'},\n",
       " {'image_id': 106140,\n",
       "  'caption': 'An airplane that is, either, landing or just taking off.',\n",
       "  'generated_image': '106140_an-airplane-that-is-either-landing-or-just-taking-off.jpg'},\n",
       " {'image_id': 322141,\n",
       "  'caption': 'A bathroom with walls that are painted baby blue.',\n",
       "  'generated_image': '322141_a-bathroom-with-walls-that-are-painted-baby-blue.jpg'},\n",
       " {'image_id': 571635,\n",
       "  'caption': 'A bathroom with a toilet, sink, and shower.',\n",
       "  'generated_image': '571635_a-bathroom-with-a-toilet-sink-and-shower.jpg'},\n",
       " {'image_id': 301837,\n",
       "  'caption': 'A long empty, minimal modern skylit home kitchen.',\n",
       "  'generated_image': '301837_a-long-empty-minimal-modern-skylit-home-kitchen.jpg'},\n",
       " {'image_id': 190236,\n",
       "  'caption': 'An office cubicle with four different types of computers.',\n",
       "  'generated_image': '190236_an-office-cubicle-with-four-different-types-of-computers.jpg'},\n",
       " {'image_id': 315702,\n",
       "  'caption': 'A bathroom sink with toiletries on the counter.',\n",
       "  'generated_image': '315702_a-bathroom-sink-with-toiletries-on-the-counter.jpg'},\n",
       " {'image_id': 331352,\n",
       "  'caption': 'A small closed toilet in a cramped space.',\n",
       "  'generated_image': '331352_a-small-closed-toilet-in-a-cramped-space.jpg'},\n",
       " {'image_id': 517069,\n",
       "  'caption': 'Two women waiting at a bench next to a street.',\n",
       "  'generated_image': '517069_two-women-waiting-at-a-bench-next-to-a-street.jpg'}]"
      ]
     },
     "execution_count": 2,
     "metadata": {},
     "output_type": "execute_result"
    }
   ],
   "source": [
    "generated_pointers[0:20]"
   ]
  },
  {
   "cell_type": "code",
   "execution_count": 3,
   "id": "dfd7f3e8",
   "metadata": {
    "scrolled": true
   },
   "outputs": [
    {
     "data": {
      "text/plain": [
       "'../coco/val2014/COCO_val2014_000000203564.jpg'"
      ]
     },
     "execution_count": 3,
     "metadata": {},
     "output_type": "execute_result"
    }
   ],
   "source": [
    "\"\"\"\n",
    "CLIP-score doesn't actually need the real image; I am just testing that we are able to locate it.\n",
    "We will need this for FID-score.\n",
    "\"\"\"\n",
    "\n",
    "def get_real_image_path(coco_dir, image_id):\n",
    "    image_id_str = str(image_id).zfill(12) # pad to 12 characters\n",
    "    image_base_fname = f\"COCO_val2014_{image_id_str}.jpg\"\n",
    "    image_path = os.path.join(coco_dir, 'val2014', image_base_fname)\n",
    "    return image_path\n",
    "\n",
    "real_image_path = get_real_image_path(coco_dir, generated_pointers[0]['image_id'])\n",
    "\n",
    "real_image_path"
   ]
  },
  {
   "cell_type": "code",
   "execution_count": null,
   "id": "4a3a84a1",
   "metadata": {
    "scrolled": true
   },
   "outputs": [
    {
     "name": "stderr",
     "output_type": "stream",
     "text": [
      "/home/forrest/anaconda3/envs/nov2022_diffusers/lib/python3.9/site-packages/tqdm/auto.py:22: TqdmWarning: IProgress not found. Please update jupyter and ipywidgets. See https://ipywidgets.readthedocs.io/en/stable/user_install.html\n",
      "  from .autonotebook import tqdm as notebook_tqdm\n"
     ]
    },
    {
     "name": "stdout",
     "output_type": "stream",
     "text": [
      "score_noise: 24.652740478515625\n",
      "score 0: 29.513614654541016\n",
      "score 1: 28.45810890197754\n",
      "score 2: 34.60138702392578\n",
      "score 3: 24.628847122192383\n",
      "score 4: 30.42526626586914\n",
      "score 5: 24.69168472290039\n",
      "score 6: 37.36733627319336\n",
      "score 7: 34.12033462524414\n",
      "score 8: 33.41608810424805\n",
      "score 9: 27.333444595336914\n",
      "score 10: 30.239782333374023\n",
      "score 11: 29.865205764770508\n",
      "score 12: 26.857927322387695\n",
      "score 13: 34.22323989868164\n",
      "score 14: 30.690690994262695\n",
      "score 15: 32.1330680847168\n",
      "score 16: 32.03816223144531\n",
      "score 17: 29.20905303955078\n",
      "score 18: 31.937095642089844\n",
      "score 19: 32.5599365234375\n",
      "score 20: 30.953853607177734\n",
      "score 21: 35.94513702392578\n",
      "score 22: 35.440895080566406\n",
      "score 23: 28.53565788269043\n",
      "score 24: 29.20604705810547\n",
      "score 25: 31.601783752441406\n",
      "score 26: 29.59362030029297\n",
      "score 27: 28.22239112854004\n",
      "score 28: 36.76041793823242\n",
      "score 29: 26.873912811279297\n",
      "score 30: 31.808015823364258\n",
      "score 31: 35.722328186035156\n",
      "score 32: 36.527652740478516\n",
      "score 33: 33.458377838134766\n",
      "score 34: 33.011260986328125\n",
      "score 35: 32.77851104736328\n",
      "score 36: 35.95111083984375\n",
      "score 37: 30.622026443481445\n",
      "score 38: 33.14964294433594\n",
      "score 39: 28.050540924072266\n",
      "score 40: 32.695640563964844\n",
      "score 41: 28.343259811401367\n",
      "score 42: 32.13914489746094\n",
      "score 43: 37.10616683959961\n",
      "score 44: 26.827129364013672\n",
      "score 45: 27.29829216003418\n",
      "score 46: 31.361371994018555\n",
      "score 47: 30.084434509277344\n",
      "score 48: 33.20349884033203\n",
      "score 49: 30.977794647216797\n",
      "score 50: 36.61752700805664\n",
      "score 51: 38.20026397705078\n",
      "score 52: 25.584293365478516\n",
      "score 53: 36.130950927734375\n",
      "score 54: 30.028339385986328\n",
      "score 55: 27.80405044555664\n",
      "score 56: 30.894542694091797\n",
      "score 57: 33.86308288574219\n",
      "score 58: 30.445358276367188\n",
      "score 59: 33.77802276611328\n",
      "score 60: 30.99943733215332\n",
      "score 61: 31.710803985595703\n",
      "score 62: 35.10738754272461\n",
      "score 63: 31.938753128051758\n",
      "score 64: 30.637767791748047\n",
      "score 65: 37.043670654296875\n",
      "score 66: 36.90876770019531\n",
      "score 67: 30.190277099609375\n",
      "score 68: 35.21503829956055\n",
      "score 69: 33.95869827270508\n",
      "score 70: 29.360023498535156\n",
      "score 71: 38.529815673828125\n",
      "score 72: 33.79082489013672\n",
      "score 73: 31.63709259033203\n",
      "score 74: 31.81372833251953\n",
      "score 75: 34.507137298583984\n",
      "score 76: 33.681949615478516\n",
      "score 77: 28.863000869750977\n",
      "score 78: 31.03243637084961\n",
      "score 79: 32.207374572753906\n",
      "score 80: 32.74808883666992\n",
      "score 81: 31.88579750061035\n",
      "score 82: 32.91822814941406\n",
      "score 83: 28.683460235595703\n",
      "score 84: 32.64667510986328\n",
      "score 85: 30.079910278320312\n",
      "score 86: 34.85328674316406\n",
      "score 87: 33.60127258300781\n",
      "score 88: 33.78765106201172\n",
      "score 89: 28.459402084350586\n",
      "score 90: 31.235031127929688\n",
      "score 91: 33.09260177612305\n",
      "score 92: 31.800613403320312\n",
      "score 93: 30.45864486694336\n",
      "score 94: 32.0814323425293\n",
      "score 95: 31.757604598999023\n",
      "score 96: 29.793458938598633\n",
      "score 97: 30.17496109008789\n",
      "score 98: 32.50779342651367\n",
      "score 99: 30.0562686920166\n",
      "score 100: 32.82166290283203\n",
      "score 101: 29.11185073852539\n",
      "score 102: 37.422733306884766\n",
      "score 103: 30.26772689819336\n",
      "score 104: 31.403827667236328\n",
      "score 105: 32.5476188659668\n",
      "score 106: 32.81486892700195\n",
      "score 107: 26.299091339111328\n",
      "score 108: 37.01519012451172\n",
      "score 109: 27.0505428314209\n",
      "score 110: 31.84421157836914\n",
      "score 111: 31.539541244506836\n",
      "score 112: 32.907833099365234\n",
      "score 113: 30.897706985473633\n",
      "score 114: 31.468242645263672\n"
     ]
    }
   ],
   "source": [
    "# CLIP score demo\n",
    "\n",
    "import torch\n",
    "from torchvision.io import read_image\n",
    "import torchvision.transforms as T\n",
    "from torchmetrics.multimodal import CLIPScore\n",
    "\n",
    "\n",
    "metric = CLIPScore(model_name_or_path=\"openai/clip-vit-base-patch16\") # TODO: which CLIP model do others use?\n",
    "\n",
    "score_noise = metric(torch.randint(255, (3, 224, 224)), \"a photo of a cat\")\n",
    "print(f\"score_noise: {score_noise}\")\n",
    "\n",
    "sum_clip_score = 0\n",
    "\n",
    "for i in range(len(generated_pointers)):\n",
    "    generated_image_path = os.path.join(generated_dir, generated_pointers[i]['generated_image'])\n",
    "    generated_image = read_image(generated_image_path)\n",
    "\n",
    "    # img = T.ToPILImage()(generated_image)\n",
    "    # img.show()\n",
    "\n",
    "    score_actual = metric(generated_image, generated_pointers[i]['caption'])\n",
    "    print(f\"score {i}: {score_actual}\")\n",
    "\n",
    "mean_clip_score = sum_clip_score / len(generated_pointers)"
   ]
  },
  {
   "cell_type": "code",
   "execution_count": null,
   "id": "e0539f0c",
   "metadata": {
    "scrolled": false
   },
   "outputs": [],
   "source": [
    "# prep for FID score demo\n",
    "\n",
    "generated_images = []\n",
    "real_images = []\n",
    "\n",
    "for i in range(len(generated_pointers)):\n",
    "    image_path = get_real_image_path(coco_dir, generated_pointers[i]['image_id'])\n",
    "    # print(image_path)\n",
    "    real_images.append(read_image(image_path))\n",
    "\n",
    "for i in range(len(generated_pointers)):\n",
    "    image_path = os.path.join(generated_dir, generated_pointers[i]['generated_image'])\n",
    "    generated_images.append(read_image(image_path))\n",
    "\n",
    "\n",
    "    "
   ]
  },
  {
   "cell_type": "code",
   "execution_count": null,
   "id": "1d1c44bf",
   "metadata": {
    "scrolled": true
   },
   "outputs": [],
   "source": [
    "img = real_images[0]\n",
    "img.shape\n",
    "img2 = img.unsqueeze(0)\n",
    "img2.shape"
   ]
  },
  {
   "cell_type": "code",
   "execution_count": null,
   "id": "d2f66322",
   "metadata": {
    "scrolled": true
   },
   "outputs": [],
   "source": [
    "# FID score demo\n",
    "\n",
    "from torchmetrics.image.fid import FrechetInceptionDistance\n",
    "\n",
    "fid = FrechetInceptionDistance(feature=2048)\n",
    "\n",
    "\"\"\"\n",
    "We are running the following with batch size 1. It would likely be faster to use a larger batch size.\n",
    "But, the real images have various resolutions and aspect ratios.\n",
    "It's convenient to let torchmetrics take care of resizing the images.\n",
    "\"\"\"\n",
    "\n",
    "i = 0\n",
    "for generated, real in zip(generated_images, real_images):\n",
    "    fid.update(generated.unsqueeze(0), real=False)\n",
    "    fid.update(real.unsqueeze(0), real=True)\n",
    "    \n",
    "    if i%100 == 0:\n",
    "        print(f\"fid score iteration {i}\")\n",
    "    \n",
    "    i += 1\n",
    "\n",
    "fid_score = fid.compute()\n",
    "print(f\"fid score: {fid_score}\")"
   ]
  }
 ],
 "metadata": {
  "kernelspec": {
   "display_name": "Python 3",
   "language": "python",
   "name": "python3"
  },
  "language_info": {
   "codemirror_mode": {
    "name": "ipython",
    "version": 3
   },
   "file_extension": ".py",
   "mimetype": "text/x-python",
   "name": "python",
   "nbconvert_exporter": "python",
   "pygments_lexer": "ipython3",
   "version": "3.9.13"
  }
 },
 "nbformat": 4,
 "nbformat_minor": 5
}
